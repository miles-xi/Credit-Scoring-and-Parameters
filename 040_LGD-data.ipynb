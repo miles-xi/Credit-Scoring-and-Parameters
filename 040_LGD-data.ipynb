{
 "cells": [
  {
   "cell_type": "markdown",
   "id": "2d08382e",
   "metadata": {},
   "source": [
    "#### data"
   ]
  },
  {
   "cell_type": "code",
   "execution_count": 1,
   "id": "38a98ed6",
   "metadata": {},
   "outputs": [],
   "source": [
    "import pandas as pd\n",
    "import numpy as np\n",
    "import matplotlib.pyplot as plt\n",
    "import seaborn as sns\n",
    "\n",
    "from sklearn.model_selection import train_test_split\n",
    "from sklearn.metrics import mean_squared_error\n",
    "from sklearn.model_selection import GridSearchCV, RandomizedSearchCV\n",
    "from scipy.stats import randint, uniform"
   ]
  },
  {
   "cell_type": "code",
   "execution_count": null,
   "id": "7c03a1d3",
   "metadata": {},
   "outputs": [
    {
     "name": "stdout",
     "output_type": "stream",
     "text": [
      "Index(['loanSequenceNumber', 'monthlyReportingPeriod', 'currentActualUpb',\n",
      "       'currentLoanDelinquencyStatus', 'loanAge',\n",
      "       'remainingMonthsToLegalMaturity', 'defectSettlementDate',\n",
      "       'modificationFlag', 'zeroBalanceCode', 'zeroBalanceEffectiveDate',\n",
      "       'currentInterestRate', 'currentNonInterestBearingUpb',\n",
      "       'dueDateOfLastPaidInstallment', 'miRecoveries', 'netSaleProceeds',\n",
      "       'nonMiRecoveries', 'totalExpenses', 'legalCosts',\n",
      "       'maintenanceAndPreservationCosts', 'taxesAndInsurance',\n",
      "       'miscellaneousExpenses', 'actualLossCalculation',\n",
      "       'cumulativeModificationCost', 'stepModificationFlag', 'paymentDeferral',\n",
      "       'estimatedLoanToValue', 'zeroBalanceRemovalUpb',\n",
      "       'delinquentAccruedInterest', 'delinquencyDueToDisaster',\n",
      "       'borrowerAssistanceStatusCode', 'currentMonthModificationCost',\n",
      "       'interestBearingUpb', 'target', 'upbPctChange', 'nonPmts_3m',\n",
      "       'delinquencyDueToDisaster_hist', 'interestBearingUpb_ratio',\n",
      "       'creditScore', 'firstPaymentDate', 'firstTimeHomebuyerFlag',\n",
      "       'maturityDate', 'areaCode', 'mortgageInsurancePct', 'numberOfUnits',\n",
      "       'occupancyStatus', 'originalCombinedLoanToValue',\n",
      "       'originalDebtToIncomeRatio', 'originalUpb', 'originalLoanToValue',\n",
      "       'originalInterestRate', 'channel', 'prepaymentPenaltyMortgageFlag',\n",
      "       'amortizationType', 'propertyState', 'propertyType', 'postalCode',\n",
      "       'loanPurpose', 'originalLoanTerm', 'numberOfBorrowers', 'sellerName',\n",
      "       'servicerName', 'superConformingFlag',\n",
      "       'preReliefRefinanceLoanSeqNumber', 'programIndicator',\n",
      "       'reliefRefinanceIndicator', 'propertyValuationMethod',\n",
      "       'interestOnlyIndicator', 'miCancellationIndicator'],\n",
      "      dtype='object')\n"
     ]
    }
   ],
   "source": [
    "train = pd.read_pickle('./data/010_train.pkl')  # train dataset, not cleaned\n",
    "train.columns"
   ]
  },
  {
   "cell_type": "markdown",
   "id": "40f19887",
   "metadata": {},
   "source": [
    "create target variable, LGD"
   ]
  },
  {
   "cell_type": "code",
   "execution_count": null,
   "id": "47cb80e9",
   "metadata": {},
   "outputs": [],
   "source": [
    "# denominator cannot be currentActualUpb or interestBearingUpb, mostly 0 post-default\n",
    "train['LGD'] = train['actualLossCalculation'] / train['zeroBalanceRemovalUpb']\n",
    "train.loc[train.LGD < 0, 'LGD'] = 0    # trim negative LGD, which is a gain not a loss\n",
    "\n",
    "defaulted = train.loc[train['LGD'].notna()]  # for training, 964rows"
   ]
  },
  {
   "cell_type": "markdown",
   "id": "0999365c",
   "metadata": {},
   "source": [
    "processing"
   ]
  },
  {
   "cell_type": "code",
   "execution_count": null,
   "id": "e4c9c74c",
   "metadata": {},
   "outputs": [],
   "source": [
    "# features not relevant or not known at the prediction time\n",
    "var1 = ['loanSequenceNumber', 'defectSettlementDate', 'miRecoveries',\n",
    "       'netSaleProceeds', 'nonMiRecoveries', 'totalExpenses', 'legalCosts', \n",
    "       'maintenanceAndPreservationCosts', 'taxesAndInsurance', 'miscellaneousExpenses',\n",
    "       'actualLossCalculation', 'target','preReliefRefinanceLoanSeqNumber']\n",
    "\n",
    "# drop features only have one unqiue value\n",
    "var2 = [col for col in defaulted.columns \n",
    "        if defaulted[col].nunique() == 1 and defaulted[col].notna().all()]\n",
    "\n",
    "# high cardinality, considering 'defaulted' only has 964 rows for training, or use target encoding\n",
    "var3 = ['seller_name', 'servicer_name']\n",
    "\n",
    "defaulted = defaulted.drop(columns=np.unique(var1 + var2 + var3))"
   ]
  },
  {
   "cell_type": "code",
   "execution_count": 5,
   "id": "0d09e5d4",
   "metadata": {},
   "outputs": [],
   "source": [
    "# nulls are a category by themselves, thus replace with values.\n",
    "defaulted['modificationFlag'] = defaulted['modificationFlag'].fillna('N')\n",
    "\n",
    "# too many real nulls, drop\n",
    "defaulted = defaulted.drop(columns=['cumulativeModificationCost', 'stepModificationFlag', 'areaCode'])\n",
    "\n",
    "defaulted['paymentDeferral'] = defaulted['paymentDeferral'].fillna('N')\n",
    "defaulted['delinquencyDueToDisaster'] = defaulted['delinquencyDueToDisaster'].fillna('N')\n",
    "defaulted['borrowerAssistanceStatusCode'] = defaulted['borrowerAssistanceStatusCode'].fillna('N')\n",
    "defaulted['currentMonthModificationCost'] = defaulted['currentMonthModificationCost'].fillna(0)\n",
    "defaulted['upbPctChange'] = defaulted['upbPctChange'].fillna(0)\n",
    "defaulted['superConformingFlag'] = defaulted['superConformingFlag'].fillna('N')\n",
    "defaulted['reliefRefinanceIndicator'] = defaulted['reliefRefinanceIndicator'].fillna('N') "
   ]
  },
  {
   "cell_type": "code",
   "execution_count": 6,
   "id": "ae3e79ad",
   "metadata": {},
   "outputs": [],
   "source": [
    "# more cleaning\n",
    "defaulted['propertyValuationMethod'] = defaulted.propertyValuationMethod.astype(str)\n",
    "defaulted['zeroBalanceCode'] = defaulted.zeroBalanceCode.astype(str)\n",
    "defaulted = defaulted.drop(columns='postalCode')\n",
    "\n",
    "defaulted['estimatedLoanToValue'] = defaulted.estimatedLoanToValue.replace(999, np.nan)\n",
    "defaulted['creditScore'] = defaulted['creditScore'].replace(to_replace=9999, value= np.nan)\n",
    "defaulted['originalDebtToIncomeRatio'] = defaulted['originalDebtToIncomeRatio'].replace(to_replace = 999, value = np.nan)"
   ]
  },
  {
   "cell_type": "code",
   "execution_count": 7,
   "id": "a579965f",
   "metadata": {},
   "outputs": [],
   "source": [
    "defaulted.to_csv('./data/040_defaulted.csv', index=False)"
   ]
  },
  {
   "cell_type": "markdown",
   "id": "2c9e5022",
   "metadata": {},
   "source": [
    "#### apply the same processing to the test set"
   ]
  },
  {
   "cell_type": "code",
   "execution_count": 8,
   "id": "2a26b1ee",
   "metadata": {},
   "outputs": [
    {
     "data": {
      "text/plain": [
       "Index(['loanSequenceNumber', 'monthlyReportingPeriod', 'currentActualUpb',\n",
       "       'currentLoanDelinquencyStatus', 'loanAge',\n",
       "       'remainingMonthsToLegalMaturity', 'defectSettlementDate',\n",
       "       'modificationFlag', 'zeroBalanceCode', 'zeroBalanceEffectiveDate',\n",
       "       'currentInterestRate', 'currentNonInterestBearingUpb',\n",
       "       'dueDateOfLastPaidInstallment', 'miRecoveries', 'netSaleProceeds',\n",
       "       'nonMiRecoveries', 'totalExpenses', 'legalCosts',\n",
       "       'maintenanceAndPreservationCosts', 'taxesAndInsurance',\n",
       "       'miscellaneousExpenses', 'actualLossCalculation',\n",
       "       'cumulativeModificationCost', 'stepModificationFlag', 'paymentDeferral',\n",
       "       'estimatedLoanToValue', 'zeroBalanceRemovalUpb',\n",
       "       'delinquentAccruedInterest', 'delinquencyDueToDisaster',\n",
       "       'borrowerAssistanceStatusCode', 'currentMonthModificationCost',\n",
       "       'interestBearingUpb', 'target', 'upbPctChange', 'nonPmts_3m',\n",
       "       'delinquencyDueToDisaster_hist', 'interestBearingUpb_ratio',\n",
       "       'creditScore', 'firstPaymentDate', 'firstTimeHomebuyerFlag',\n",
       "       'maturityDate', 'areaCode', 'mortgageInsurancePct', 'numberOfUnits',\n",
       "       'occupancyStatus', 'originalCombinedLoanToValue',\n",
       "       'originalDebtToIncomeRatio', 'originalUpb', 'originalLoanToValue',\n",
       "       'originalInterestRate', 'channel', 'prepaymentPenaltyMortgageFlag',\n",
       "       'amortizationType', 'propertyState', 'propertyType', 'postalCode',\n",
       "       'loanPurpose', 'originalLoanTerm', 'numberOfBorrowers', 'sellerName',\n",
       "       'servicerName', 'superConformingFlag',\n",
       "       'preReliefRefinanceLoanSeqNumber', 'programIndicator',\n",
       "       'reliefRefinanceIndicator', 'propertyValuationMethod',\n",
       "       'interestOnlyIndicator', 'miCancellationIndicator'],\n",
       "      dtype='object')"
      ]
     },
     "execution_count": 8,
     "metadata": {},
     "output_type": "execute_result"
    }
   ],
   "source": [
    "test = pd.read_pickle('./data/010_test.pkl')  # dataset, not cleaned\n",
    "test.columns"
   ]
  },
  {
   "cell_type": "code",
   "execution_count": null,
   "id": "9034b342",
   "metadata": {},
   "outputs": [],
   "source": [
    "# denominator cannot be currentActualUpb or interestBearingUpb, mostly 0\n",
    "test['LGD'] = test['actualLossCalculation'] / test['zeroBalanceRemovalUpb']\n",
    "test.loc[test.LGD < 0, 'LGD'] = 0    # trim negative LGD, which is a gain not a loss"
   ]
  },
  {
   "cell_type": "code",
   "execution_count": 10,
   "id": "2cfa2cf5",
   "metadata": {},
   "outputs": [],
   "source": [
    "defaulted_test = test.loc[test['LGD'].notna()]"
   ]
  },
  {
   "cell_type": "code",
   "execution_count": null,
   "id": "a1a25c59",
   "metadata": {},
   "outputs": [],
   "source": [
    "defaulted_test = defaulted_test.drop(columns=np.unique(var1 + var2 + var3))"
   ]
  },
  {
   "cell_type": "code",
   "execution_count": 12,
   "id": "eff34b86",
   "metadata": {},
   "outputs": [],
   "source": [
    "# nulls are a category by themselves, thus replace with values.\n",
    "defaulted_test['modificationFlag'] = defaulted_test['modificationFlag'].fillna('N')\n",
    "\n",
    "# too many real nulls, drop\n",
    "defaulted_test = defaulted_test.drop(columns=['cumulativeModificationCost', 'stepModificationFlag', 'areaCode'])\n",
    "\n",
    "defaulted_test['paymentDeferral'] = defaulted_test['paymentDeferral'].fillna('N')\n",
    "defaulted_test['delinquencyDueToDisaster'] = defaulted_test['delinquencyDueToDisaster'].fillna('N')\n",
    "defaulted_test['borrowerAssistanceStatusCode'] = defaulted_test['borrowerAssistanceStatusCode'].fillna('N')\n",
    "defaulted_test['currentMonthModificationCost'] = defaulted_test['currentMonthModificationCost'].fillna(0)\n",
    "defaulted_test['upbPctChange'] = defaulted_test['upbPctChange'].fillna(0)\n",
    "defaulted_test['superConformingFlag'] = defaulted_test['superConformingFlag'].fillna('N')\n",
    "defaulted_test['reliefRefinanceIndicator'] = defaulted_test['reliefRefinanceIndicator'].fillna('N') "
   ]
  },
  {
   "cell_type": "code",
   "execution_count": 13,
   "id": "f0b2586e",
   "metadata": {},
   "outputs": [],
   "source": [
    "# more cleaning\n",
    "defaulted_test['propertyValuationMethod'] = defaulted_test.propertyValuationMethod.astype(str)\n",
    "defaulted_test['zeroBalanceCode'] = defaulted_test.zeroBalanceCode.astype(str)\n",
    "defaulted_test = defaulted_test.drop(columns='postalCode')\n",
    "\n",
    "defaulted_test['estimatedLoanToValue'] = defaulted_test.estimatedLoanToValue.replace(999, np.nan)\n",
    "defaulted_test['creditScore'] = defaulted_test['creditScore'].replace(to_replace=9999, value= np.nan)\n",
    "defaulted_test['originalDebtToIncomeRatio'] = defaulted_test['originalDebtToIncomeRatio'].replace(to_replace = 999, value = np.nan)"
   ]
  },
  {
   "cell_type": "code",
   "execution_count": 14,
   "id": "8156c159",
   "metadata": {},
   "outputs": [],
   "source": [
    "defaulted_test.to_csv('./data/040_defaulted_test.csv', index=False)"
   ]
  },
  {
   "cell_type": "markdown",
   "id": "6087b2b4",
   "metadata": {},
   "source": [
    "#### OOT"
   ]
  },
  {
   "cell_type": "code",
   "execution_count": 15,
   "id": "0d7b844a",
   "metadata": {},
   "outputs": [
    {
     "data": {
      "text/plain": [
       "Index(['loanSequenceNumber', 'monthlyReportingPeriod', 'currentActualUpb',\n",
       "       'currentLoanDelinquencyStatus', 'loanAge',\n",
       "       'remainingMonthsToLegalMaturity', 'defectSettlementDate',\n",
       "       'modificationFlag', 'zeroBalanceCode', 'zeroBalanceEffectiveDate',\n",
       "       'currentInterestRate', 'currentNonInterestBearingUpb',\n",
       "       'dueDateOfLastPaidInstallment', 'miRecoveries', 'netSaleProceeds',\n",
       "       'nonMiRecoveries', 'totalExpenses', 'legalCosts',\n",
       "       'maintenanceAndPreservationCosts', 'taxesAndInsurance',\n",
       "       'miscellaneousExpenses', 'actualLossCalculation',\n",
       "       'cumulativeModificationCost', 'stepModificationFlag', 'paymentDeferral',\n",
       "       'estimatedLoanToValue', 'zeroBalanceRemovalUpb',\n",
       "       'delinquentAccruedInterest', 'delinquencyDueToDisaster',\n",
       "       'borrowerAssistanceStatusCode', 'currentMonthModificationCost',\n",
       "       'interestBearingUpb', 'target', 'upbPctChange', 'nonPmts_3m',\n",
       "       'delinquencyDueToDisaster_hist', 'interestBearingUpb_ratio',\n",
       "       'creditScore', 'firstPaymentDate', 'firstTimeHomebuyerFlag',\n",
       "       'maturityDate', 'areaCode', 'mortgageInsurancePct', 'numberOfUnits',\n",
       "       'occupancyStatus', 'originalCombinedLoanToValue',\n",
       "       'originalDebtToIncomeRatio', 'originalUpb', 'originalLoanToValue',\n",
       "       'originalInterestRate', 'channel', 'prepaymentPenaltyMortgageFlag',\n",
       "       'amortizationType', 'propertyState', 'propertyType', 'postalCode',\n",
       "       'loanPurpose', 'originalLoanTerm', 'numberOfBorrowers', 'sellerName',\n",
       "       'servicerName', 'superConformingFlag',\n",
       "       'preReliefRefinanceLoanSeqNumber', 'programIndicator',\n",
       "       'reliefRefinanceIndicator', 'propertyValuationMethod',\n",
       "       'interestOnlyIndicator', 'miCancellationIndicator'],\n",
       "      dtype='object')"
      ]
     },
     "execution_count": 15,
     "metadata": {},
     "output_type": "execute_result"
    }
   ],
   "source": [
    "full = pd.read_pickle('./data/010_full.pkl')  # full dataset, not cleaned\n",
    "oot = full[full.monthlyReportingPeriod == 202406]  # oot\n",
    "oot.columns"
   ]
  },
  {
   "cell_type": "code",
   "execution_count": 16,
   "id": "4e749f12",
   "metadata": {},
   "outputs": [
    {
     "name": "stderr",
     "output_type": "stream",
     "text": [
      "/var/folders/33/qv3yf4892xld1btchk4myrjc0000gn/T/ipykernel_91428/1282644302.py:1: SettingWithCopyWarning: \n",
      "A value is trying to be set on a copy of a slice from a DataFrame.\n",
      "Try using .loc[row_indexer,col_indexer] = value instead\n",
      "\n",
      "See the caveats in the documentation: https://pandas.pydata.org/pandas-docs/stable/user_guide/indexing.html#returning-a-view-versus-a-copy\n",
      "  oot['LGD'] = oot['actualLossCalculation'] / oot['zeroBalanceRemovalUpb']\n"
     ]
    }
   ],
   "source": [
    "oot['LGD'] = oot['actualLossCalculation'] / oot['zeroBalanceRemovalUpb']\n",
    "oot.loc[oot.LGD < 0, 'LGD'] = 0    # trim negative LGD, which is a gain not a loss"
   ]
  },
  {
   "cell_type": "code",
   "execution_count": null,
   "id": "abfa8e51",
   "metadata": {},
   "outputs": [],
   "source": [
    "oot = oot.drop(columns=np.unique(var1 + var2 + var3))"
   ]
  },
  {
   "cell_type": "code",
   "execution_count": 18,
   "id": "2dda3902",
   "metadata": {},
   "outputs": [],
   "source": [
    "# nulls are a category by themselves, thus replace with values.\n",
    "oot['modificationFlag'] = oot['modificationFlag'].fillna('N')\n",
    "\n",
    "# too many real nulls, drop\n",
    "oot = oot.drop(columns=['cumulativeModificationCost', 'stepModificationFlag', 'areaCode'])\n",
    "\n",
    "oot['paymentDeferral'] = oot['paymentDeferral'].fillna('N')\n",
    "oot['delinquencyDueToDisaster'] = oot['delinquencyDueToDisaster'].fillna('N')\n",
    "oot['borrowerAssistanceStatusCode'] = oot['borrowerAssistanceStatusCode'].fillna('N')\n",
    "oot['currentMonthModificationCost'] = oot['currentMonthModificationCost'].fillna(0)\n",
    "oot['upbPctChange'] = oot['upbPctChange'].fillna(0)\n",
    "oot['superConformingFlag'] = oot['superConformingFlag'].fillna('N')\n",
    "oot['reliefRefinanceIndicator'] = oot['reliefRefinanceIndicator'].fillna('N') \n",
    "\n",
    "# more cleaning\n",
    "oot['propertyValuationMethod'] = oot.propertyValuationMethod.astype(str)\n",
    "oot['zeroBalanceCode'] = oot.zeroBalanceCode.astype(str)\n",
    "oot = oot.drop(columns='postalCode')\n",
    "\n",
    "oot['estimatedLoanToValue'] = oot.estimatedLoanToValue.replace(999, np.nan)\n",
    "oot['creditScore'] = oot['creditScore'].replace(to_replace=9999, value= np.nan)\n",
    "oot['originalDebtToIncomeRatio'] = oot['originalDebtToIncomeRatio'].replace(to_replace = 999, value = np.nan)"
   ]
  },
  {
   "cell_type": "code",
   "execution_count": 19,
   "id": "5be40e41",
   "metadata": {},
   "outputs": [],
   "source": [
    "oot.to_csv('./data/040_oot.csv', index=False)"
   ]
  }
 ],
 "metadata": {
  "kernelspec": {
   "display_name": "Python 3",
   "language": "python",
   "name": "python3"
  },
  "language_info": {
   "codemirror_mode": {
    "name": "ipython",
    "version": 3
   },
   "file_extension": ".py",
   "mimetype": "text/x-python",
   "name": "python",
   "nbconvert_exporter": "python",
   "pygments_lexer": "ipython3",
   "version": "3.9.6"
  }
 },
 "nbformat": 4,
 "nbformat_minor": 5
}
