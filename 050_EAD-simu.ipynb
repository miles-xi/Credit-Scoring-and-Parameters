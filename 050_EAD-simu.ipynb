{
 "cells": [
  {
   "cell_type": "code",
   "execution_count": 2,
   "id": "a8a54393",
   "metadata": {},
   "outputs": [],
   "source": [
    "import pandas as pd\n",
    "import numpy as np\n",
    "import matplotlib.pyplot as plt\n",
    "import seaborn as sns\n",
    "\n",
    "from scipy.stats import randint, uniform\n"
   ]
  },
  {
   "cell_type": "code",
   "execution_count": 3,
   "id": "13c4ab79",
   "metadata": {},
   "outputs": [],
   "source": [
    "lrpd = pd.read_csv('./result/030_lrPD.csv')\n",
    "lgd = pd.read_csv('./result/041_LGD_pred_oot.csv')\n",
    "full = pd.read_pickle('./data/010_full.pkl')"
   ]
  },
  {
   "cell_type": "markdown",
   "id": "2d53ad10",
   "metadata": {},
   "source": [
    "EAD of collateralized loans = mortgage value - collateral (= property's value) * recovery rate\n",
    "\n",
    "Assume that you may recover between 40% to 60% of the house value, assuming a uniform distribution in this range. Run a simulation 10,000 times"
   ]
  },
  {
   "cell_type": "code",
   "execution_count": 4,
   "id": "f32b70f1",
   "metadata": {},
   "outputs": [],
   "source": [
    "oot = full.loc[full.monthlyReportingPeriod == 202406]"
   ]
  },
  {
   "cell_type": "code",
   "execution_count": 35,
   "id": "e1a6abad",
   "metadata": {},
   "outputs": [],
   "source": [
    "rrates = uniform.rvs(loc = 0.4, scale = 0.2, size= 10000) # from 0.4 to 0.6"
   ]
  },
  {
   "cell_type": "code",
   "execution_count": 36,
   "id": "2269d248",
   "metadata": {},
   "outputs": [],
   "source": [
    "provisions = []\n",
    "for i in range(len(rrates)):\n",
    "    rrate = rrates[i]\n",
    "    recovery = rrate * oot.zeroBalanceRemovalUpb / oot.estimatedLoanToValue\n",
    "    ead = oot.zeroBalanceRemovalUpb - recovery\n",
    "    provision = ead.values * lgd.LGD_hat.values * lrpd.lrPD.values\n",
    "    provisions.append(np.sum(provision))"
   ]
  },
  {
   "cell_type": "code",
   "execution_count": 37,
   "id": "d36d456b",
   "metadata": {},
   "outputs": [
    {
     "data": {
      "text/plain": [
       "count     10000.000000\n",
       "mean     115833.402189\n",
       "std          62.270104\n",
       "min      115724.166398\n",
       "25%      115779.012680\n",
       "50%      115833.883859\n",
       "75%      115886.885899\n",
       "max      115941.066712\n",
       "dtype: float64"
      ]
     },
     "execution_count": 37,
     "metadata": {},
     "output_type": "execute_result"
    },
    {
     "data": {
      "image/png": "[encoded data removed]",
      "text/plain": [
       "<Figure size 640x480 with 1 Axes>"
      ]
     },
     "metadata": {},
     "output_type": "display_data"
    }
   ],
   "source": [
    "sns.histplot(provisions, bins=40);\n",
    "provisions = pd.Series(provisions)\n",
    "provisions.describe()"
   ]
  },
  {
   "cell_type": "code",
   "execution_count": null,
   "id": "50219829",
   "metadata": {},
   "outputs": [
    {
     "name": "stdout",
     "output_type": "stream",
     "text": [
      "95% confidence interval is 115832.1795059616 and 115834.62049403839\n",
      "This corresponds to 0.0018782727841462445 and 0.0018783123659057402\n"
     ]
    }
   ],
   "source": [
    "lb = provisions.mean() - 1.96 * provisions.std(ddof=1) / np.sqrt(10000)\n",
    "ub = provisions.mean() + 1.96 * provisions.std(ddof=1) / np.sqrt(10000)\n",
    "print(f'95% confidence interval is {lb} and {ub}')\n",
    "print(f'This corresponds to {lb / sum(oot.zeroBalanceRemovalUpb)} and {ub / sum(oot.zeroBalanceRemovalUpb)}')"
   ]
  },
  {
   "cell_type": "code",
   "execution_count": null,
   "id": "87c71ff7",
   "metadata": {},
   "outputs": [],
   "source": []
  }
 ],
 "metadata": {
  "kernelspec": {
   "display_name": "Python 3",
   "language": "python",
   "name": "python3"
  },
  "language_info": {
   "codemirror_mode": {
    "name": "ipython",
    "version": 3
   },
   "file_extension": ".py",
   "mimetype": "text/x-python",
   "name": "python",
   "nbconvert_exporter": "python",
   "pygments_lexer": "ipython3",
   "version": "3.9.6"
  }
 },
 "nbformat": 4,
 "nbformat_minor": 5
}
